{
 "cells": [
  {
   "cell_type": "markdown",
   "metadata": {},
   "source": [
    "# User behaviour research for the international online store\n",
    "\n",
    "\n",
    "Given research is investigating user behaviour for an international online store.\n",
    "\n",
    "We start with the sales funnel to find out how users reach the purchase stage, how many users actually make it to this stage and how many get stuck at previous stages.\n",
    "\n",
    "Then we'll look at the results of an A/B test regarding changes related to the introduction of an improved recommendation system: Expected result: within 14 days of signing up, users will show better conversion into product page views (the product_page event), product card views (product_card) and purchases (purchase). At each of the stage of the funnel product_page → product_card → purchase, there will be at least a 10% increase.\n",
    "\n",
    "The users are split into 2 groups: А (control group - get the old payment funnel), B (test group - gets the new payment funnel)."
   ]
  },
  {
   "cell_type": "markdown",
   "metadata": {},
   "source": [
    "## Table Of Content:\n",
    "1. [Openning data & pre-processing](#start)\n",
    "    - 1.1. [Openning the data](#data)\n",
    "    - 1.2. [Conclusion](#start-conc)\n",
    "2. [Data analysis](#analysis)\n",
    "    - 2.1 [Conclusion](#analysis-conc)\n",
    "3. [Carrying out exploratory data analysis](#checking)\n",
    "    - 3.1 [Conclusion](#checking-conc)\n",
    "4. [Evaluating the A/B test results](#a/b)\n",
    "    - 4.1 [Conclusion](#funnel-conc)\n",
    "5. [Evaluating the A/B test results](#results)\n",
    "    - 5.1 [Conclusion](#results-conc)\n",
    "6. [General conclusion](#conclusion)"
   ]
  },
  {
   "cell_type": "markdown",
   "metadata": {},
   "source": [
    "## Step 1. Openning data & pre-processing <a class=\"anchor\" id=\"start\"></a>\n"
   ]
  },
  {
   "cell_type": "code",
   "execution_count": 1,
   "metadata": {},
   "outputs": [
    {
     "name": "stdout",
     "output_type": "stream",
     "text": [
      "Defaulting to user installation because normal site-packages is not writeable\n",
      "Requirement already satisfied: fastcluster in /home/jovyan/.local/lib/python3.7/site-packages (1.1.26)\n",
      "Requirement already satisfied: numpy>=1.9 in /opt/conda/lib/python3.7/site-packages (from fastcluster) (1.19.0)\n"
     ]
    }
   ],
   "source": [
    "!pip install fastcluster"
   ]
  },
  {
   "cell_type": "code",
   "execution_count": 2,
   "metadata": {},
   "outputs": [
    {
     "name": "stdout",
     "output_type": "stream",
     "text": [
      "Defaulting to user installation because normal site-packages is not writeable\n",
      "Requirement already satisfied: seaborn==0.11.0 in /home/jovyan/.local/lib/python3.7/site-packages (0.11.0)\n",
      "Requirement already satisfied: numpy>=1.15 in /opt/conda/lib/python3.7/site-packages (from seaborn==0.11.0) (1.19.0)\n",
      "Requirement already satisfied: scipy>=1.0 in /opt/conda/lib/python3.7/site-packages (from seaborn==0.11.0) (1.4.1)\n",
      "Requirement already satisfied: matplotlib>=2.2 in /opt/conda/lib/python3.7/site-packages (from seaborn==0.11.0) (3.1.0)\n",
      "Requirement already satisfied: pandas>=0.23 in /opt/conda/lib/python3.7/site-packages (from seaborn==0.11.0) (0.25.1)\n",
      "Requirement already satisfied: kiwisolver>=1.0.1 in /opt/conda/lib/python3.7/site-packages (from matplotlib>=2.2->seaborn==0.11.0) (1.2.0)\n",
      "Requirement already satisfied: python-dateutil>=2.1 in /opt/conda/lib/python3.7/site-packages (from matplotlib>=2.2->seaborn==0.11.0) (2.8.1)\n",
      "Requirement already satisfied: pyparsing!=2.0.4,!=2.1.2,!=2.1.6,>=2.0.1 in /opt/conda/lib/python3.7/site-packages (from matplotlib>=2.2->seaborn==0.11.0) (2.4.7)\n",
      "Requirement already satisfied: cycler>=0.10 in /opt/conda/lib/python3.7/site-packages (from matplotlib>=2.2->seaborn==0.11.0) (0.10.0)\n",
      "Requirement already satisfied: pytz>=2017.2 in /opt/conda/lib/python3.7/site-packages (from pandas>=0.23->seaborn==0.11.0) (2020.1)\n",
      "Requirement already satisfied: six>=1.5 in /opt/conda/lib/python3.7/site-packages (from python-dateutil>=2.1->matplotlib>=2.2->seaborn==0.11.0) (1.15.0)\n"
     ]
    }
   ],
   "source": [
    "!pip install seaborn==0.11.0"
   ]
  },
  {
   "cell_type": "code",
   "execution_count": 3,
   "metadata": {},
   "outputs": [],
   "source": [
    "import statsmodels.api as sm"
   ]
  },
  {
   "cell_type": "code",
   "execution_count": 4,
   "metadata": {},
   "outputs": [],
   "source": [
    "import pandas as pd\n",
    "from pandas.plotting import register_matplotlib_converters\n",
    "register_matplotlib_converters()\n",
    "import numpy as np\n",
    "import scipy.stats as stats\n",
    "from scipy.stats import norm\n",
    "import math as mt\n",
    "from math import factorial\n",
    "import random\n",
    "import matplotlib\n",
    "import matplotlib.pyplot as plt\n",
    "import matplotlib.lines as mlines\n",
    "import plotly.express as px\n",
    "import seaborn as sns\n",
    "from plotly import graph_objects as go\n",
    "from plotly.subplots import make_subplots\n",
    "from collections import Counter\n",
    "import warnings\n",
    "from datetime import date, timedelta\n",
    "from datetime import datetime\n",
    "\n"
   ]
  },
  {
   "cell_type": "code",
   "execution_count": 5,
   "metadata": {},
   "outputs": [],
   "source": [
    "warnings.simplefilter(action='ignore', category=FutureWarning)"
   ]
  },
  {
   "cell_type": "markdown",
   "metadata": {},
   "source": [
    "### 1.1 Openning the data<a class=\"anchor\" id=\"data\"></a>\n",
    "\n"
   ]
  },
  {
   "cell_type": "code",
   "execution_count": 6,
   "metadata": {},
   "outputs": [
    {
     "name": "stdout",
     "output_type": "stream",
     "text": [
      "<class 'pandas.core.frame.DataFrame'>\n",
      "RangeIndex: 14 entries, 0 to 13\n",
      "Data columns (total 4 columns):\n",
      "name         14 non-null object\n",
      "regions      14 non-null object\n",
      "start_dt     14 non-null object\n",
      "finish_dt    14 non-null object\n",
      "dtypes: object(4)\n",
      "memory usage: 576.0+ bytes\n"
     ]
    },
    {
     "data": {
      "text/html": [
       "<div>\n",
       "<style scoped>\n",
       "    .dataframe tbody tr th:only-of-type {\n",
       "        vertical-align: middle;\n",
       "    }\n",
       "\n",
       "    .dataframe tbody tr th {\n",
       "        vertical-align: top;\n",
       "    }\n",
       "\n",
       "    .dataframe thead th {\n",
       "        text-align: right;\n",
       "    }\n",
       "</style>\n",
       "<table border=\"1\" class=\"dataframe\">\n",
       "  <thead>\n",
       "    <tr style=\"text-align: right;\">\n",
       "      <th></th>\n",
       "      <th>name</th>\n",
       "      <th>regions</th>\n",
       "      <th>start_dt</th>\n",
       "      <th>finish_dt</th>\n",
       "    </tr>\n",
       "  </thead>\n",
       "  <tbody>\n",
       "    <tr>\n",
       "      <td>0</td>\n",
       "      <td>Christmas&amp;New Year Promo</td>\n",
       "      <td>EU, N.America</td>\n",
       "      <td>2020-12-25</td>\n",
       "      <td>2021-01-03</td>\n",
       "    </tr>\n",
       "    <tr>\n",
       "      <td>1</td>\n",
       "      <td>St. Valentine's Day Giveaway</td>\n",
       "      <td>EU, CIS, APAC, N.America</td>\n",
       "      <td>2020-02-14</td>\n",
       "      <td>2020-02-16</td>\n",
       "    </tr>\n",
       "    <tr>\n",
       "      <td>2</td>\n",
       "      <td>St. Patric's Day Promo</td>\n",
       "      <td>EU, N.America</td>\n",
       "      <td>2020-03-17</td>\n",
       "      <td>2020-03-19</td>\n",
       "    </tr>\n",
       "    <tr>\n",
       "      <td>3</td>\n",
       "      <td>Easter Promo</td>\n",
       "      <td>EU, CIS, APAC, N.America</td>\n",
       "      <td>2020-04-12</td>\n",
       "      <td>2020-04-19</td>\n",
       "    </tr>\n",
       "    <tr>\n",
       "      <td>4</td>\n",
       "      <td>4th of July Promo</td>\n",
       "      <td>N.America</td>\n",
       "      <td>2020-07-04</td>\n",
       "      <td>2020-07-11</td>\n",
       "    </tr>\n",
       "  </tbody>\n",
       "</table>\n",
       "</div>"
      ],
      "text/plain": [
       "                           name                   regions    start_dt  \\\n",
       "0      Christmas&New Year Promo             EU, N.America  2020-12-25   \n",
       "1  St. Valentine's Day Giveaway  EU, CIS, APAC, N.America  2020-02-14   \n",
       "2        St. Patric's Day Promo             EU, N.America  2020-03-17   \n",
       "3                  Easter Promo  EU, CIS, APAC, N.America  2020-04-12   \n",
       "4             4th of July Promo                 N.America  2020-07-04   \n",
       "\n",
       "    finish_dt  \n",
       "0  2021-01-03  \n",
       "1  2020-02-16  \n",
       "2  2020-03-19  \n",
       "3  2020-04-19  \n",
       "4  2020-07-11  "
      ]
     },
     "metadata": {},
     "output_type": "display_data"
    }
   ],
   "source": [
    "#Let’s read the data from the csv and check what we have there.\n",
    "#table from the csv file will be saved as df1:\n",
    "\n",
    "df1 = pd.read_csv('/datasets/ab_project_marketing_events_us.csv', sep=',')\n",
    "df1.info()\n",
    "display(df1.head())"
   ]
  },
  {
   "cell_type": "code",
   "execution_count": 7,
   "metadata": {},
   "outputs": [
    {
     "name": "stdout",
     "output_type": "stream",
     "text": [
      "<class 'pandas.core.frame.DataFrame'>\n",
      "RangeIndex: 61733 entries, 0 to 61732\n",
      "Data columns (total 4 columns):\n",
      "user_id       61733 non-null object\n",
      "first_date    61733 non-null object\n",
      "region        61733 non-null object\n",
      "device        61733 non-null object\n",
      "dtypes: object(4)\n",
      "memory usage: 1.9+ MB\n"
     ]
    },
    {
     "data": {
      "text/html": [
       "<div>\n",
       "<style scoped>\n",
       "    .dataframe tbody tr th:only-of-type {\n",
       "        vertical-align: middle;\n",
       "    }\n",
       "\n",
       "    .dataframe tbody tr th {\n",
       "        vertical-align: top;\n",
       "    }\n",
       "\n",
       "    .dataframe thead th {\n",
       "        text-align: right;\n",
       "    }\n",
       "</style>\n",
       "<table border=\"1\" class=\"dataframe\">\n",
       "  <thead>\n",
       "    <tr style=\"text-align: right;\">\n",
       "      <th></th>\n",
       "      <th>user_id</th>\n",
       "      <th>first_date</th>\n",
       "      <th>region</th>\n",
       "      <th>device</th>\n",
       "    </tr>\n",
       "  </thead>\n",
       "  <tbody>\n",
       "    <tr>\n",
       "      <td>0</td>\n",
       "      <td>D72A72121175D8BE</td>\n",
       "      <td>2020-12-07</td>\n",
       "      <td>EU</td>\n",
       "      <td>PC</td>\n",
       "    </tr>\n",
       "    <tr>\n",
       "      <td>1</td>\n",
       "      <td>F1C668619DFE6E65</td>\n",
       "      <td>2020-12-07</td>\n",
       "      <td>N.America</td>\n",
       "      <td>Android</td>\n",
       "    </tr>\n",
       "    <tr>\n",
       "      <td>2</td>\n",
       "      <td>2E1BF1D4C37EA01F</td>\n",
       "      <td>2020-12-07</td>\n",
       "      <td>EU</td>\n",
       "      <td>PC</td>\n",
       "    </tr>\n",
       "    <tr>\n",
       "      <td>3</td>\n",
       "      <td>50734A22C0C63768</td>\n",
       "      <td>2020-12-07</td>\n",
       "      <td>EU</td>\n",
       "      <td>iPhone</td>\n",
       "    </tr>\n",
       "    <tr>\n",
       "      <td>4</td>\n",
       "      <td>E1BDDCE0DAFA2679</td>\n",
       "      <td>2020-12-07</td>\n",
       "      <td>N.America</td>\n",
       "      <td>iPhone</td>\n",
       "    </tr>\n",
       "  </tbody>\n",
       "</table>\n",
       "</div>"
      ],
      "text/plain": [
       "            user_id  first_date     region   device\n",
       "0  D72A72121175D8BE  2020-12-07         EU       PC\n",
       "1  F1C668619DFE6E65  2020-12-07  N.America  Android\n",
       "2  2E1BF1D4C37EA01F  2020-12-07         EU       PC\n",
       "3  50734A22C0C63768  2020-12-07         EU   iPhone\n",
       "4  E1BDDCE0DAFA2679  2020-12-07  N.America   iPhone"
      ]
     },
     "metadata": {},
     "output_type": "display_data"
    }
   ],
   "source": [
    "#Let’s read the data from the csv and check what we have there.\n",
    "#table from the csv file will be saved as df2:\n",
    "\n",
    "df2 = pd.read_csv('/datasets/final_ab_new_users_us.csv', sep=',')\n",
    "df2.info()\n",
    "display(df2.head())"
   ]
  },
  {
   "cell_type": "code",
   "execution_count": 8,
   "metadata": {},
   "outputs": [
    {
     "name": "stdout",
     "output_type": "stream",
     "text": [
      "<class 'pandas.core.frame.DataFrame'>\n",
      "RangeIndex: 440317 entries, 0 to 440316\n",
      "Data columns (total 4 columns):\n",
      "user_id       440317 non-null object\n",
      "event_dt      440317 non-null object\n",
      "event_name    440317 non-null object\n",
      "details       62740 non-null float64\n",
      "dtypes: float64(1), object(3)\n",
      "memory usage: 13.4+ MB\n"
     ]
    },
    {
     "data": {
      "text/html": [
       "<div>\n",
       "<style scoped>\n",
       "    .dataframe tbody tr th:only-of-type {\n",
       "        vertical-align: middle;\n",
       "    }\n",
       "\n",
       "    .dataframe tbody tr th {\n",
       "        vertical-align: top;\n",
       "    }\n",
       "\n",
       "    .dataframe thead th {\n",
       "        text-align: right;\n",
       "    }\n",
       "</style>\n",
       "<table border=\"1\" class=\"dataframe\">\n",
       "  <thead>\n",
       "    <tr style=\"text-align: right;\">\n",
       "      <th></th>\n",
       "      <th>user_id</th>\n",
       "      <th>event_dt</th>\n",
       "      <th>event_name</th>\n",
       "      <th>details</th>\n",
       "    </tr>\n",
       "  </thead>\n",
       "  <tbody>\n",
       "    <tr>\n",
       "      <td>0</td>\n",
       "      <td>E1BDDCE0DAFA2679</td>\n",
       "      <td>2020-12-07 20:22:03</td>\n",
       "      <td>purchase</td>\n",
       "      <td>99.99</td>\n",
       "    </tr>\n",
       "    <tr>\n",
       "      <td>1</td>\n",
       "      <td>7B6452F081F49504</td>\n",
       "      <td>2020-12-07 09:22:53</td>\n",
       "      <td>purchase</td>\n",
       "      <td>9.99</td>\n",
       "    </tr>\n",
       "    <tr>\n",
       "      <td>2</td>\n",
       "      <td>9CD9F34546DF254C</td>\n",
       "      <td>2020-12-07 12:59:29</td>\n",
       "      <td>purchase</td>\n",
       "      <td>4.99</td>\n",
       "    </tr>\n",
       "    <tr>\n",
       "      <td>3</td>\n",
       "      <td>96F27A054B191457</td>\n",
       "      <td>2020-12-07 04:02:40</td>\n",
       "      <td>purchase</td>\n",
       "      <td>4.99</td>\n",
       "    </tr>\n",
       "    <tr>\n",
       "      <td>4</td>\n",
       "      <td>1FD7660FDF94CA1F</td>\n",
       "      <td>2020-12-07 10:15:09</td>\n",
       "      <td>purchase</td>\n",
       "      <td>4.99</td>\n",
       "    </tr>\n",
       "  </tbody>\n",
       "</table>\n",
       "</div>"
      ],
      "text/plain": [
       "            user_id             event_dt event_name  details\n",
       "0  E1BDDCE0DAFA2679  2020-12-07 20:22:03   purchase    99.99\n",
       "1  7B6452F081F49504  2020-12-07 09:22:53   purchase     9.99\n",
       "2  9CD9F34546DF254C  2020-12-07 12:59:29   purchase     4.99\n",
       "3  96F27A054B191457  2020-12-07 04:02:40   purchase     4.99\n",
       "4  1FD7660FDF94CA1F  2020-12-07 10:15:09   purchase     4.99"
      ]
     },
     "metadata": {},
     "output_type": "display_data"
    }
   ],
   "source": [
    "#Let’s read the data from the csv and check what we have there.\n",
    "#table from the csv file will be saved as df3:\n",
    "\n",
    "df3 = pd.read_csv('/datasets/final_ab_events_us.csv', sep=',')\n",
    "df3.info()\n",
    "display(df3.head())"
   ]
  },
  {
   "cell_type": "code",
   "execution_count": 9,
   "metadata": {},
   "outputs": [
    {
     "name": "stdout",
     "output_type": "stream",
     "text": [
      "<class 'pandas.core.frame.DataFrame'>\n",
      "RangeIndex: 18268 entries, 0 to 18267\n",
      "Data columns (total 3 columns):\n",
      "user_id    18268 non-null object\n",
      "group      18268 non-null object\n",
      "ab_test    18268 non-null object\n",
      "dtypes: object(3)\n",
      "memory usage: 428.3+ KB\n"
     ]
    },
    {
     "data": {
      "text/html": [
       "<div>\n",
       "<style scoped>\n",
       "    .dataframe tbody tr th:only-of-type {\n",
       "        vertical-align: middle;\n",
       "    }\n",
       "\n",
       "    .dataframe tbody tr th {\n",
       "        vertical-align: top;\n",
       "    }\n",
       "\n",
       "    .dataframe thead th {\n",
       "        text-align: right;\n",
       "    }\n",
       "</style>\n",
       "<table border=\"1\" class=\"dataframe\">\n",
       "  <thead>\n",
       "    <tr style=\"text-align: right;\">\n",
       "      <th></th>\n",
       "      <th>user_id</th>\n",
       "      <th>group</th>\n",
       "      <th>ab_test</th>\n",
       "    </tr>\n",
       "  </thead>\n",
       "  <tbody>\n",
       "    <tr>\n",
       "      <td>0</td>\n",
       "      <td>D1ABA3E2887B6A73</td>\n",
       "      <td>A</td>\n",
       "      <td>recommender_system_test</td>\n",
       "    </tr>\n",
       "    <tr>\n",
       "      <td>1</td>\n",
       "      <td>A7A3664BD6242119</td>\n",
       "      <td>A</td>\n",
       "      <td>recommender_system_test</td>\n",
       "    </tr>\n",
       "    <tr>\n",
       "      <td>2</td>\n",
       "      <td>DABC14FDDFADD29E</td>\n",
       "      <td>A</td>\n",
       "      <td>recommender_system_test</td>\n",
       "    </tr>\n",
       "    <tr>\n",
       "      <td>3</td>\n",
       "      <td>04988C5DF189632E</td>\n",
       "      <td>A</td>\n",
       "      <td>recommender_system_test</td>\n",
       "    </tr>\n",
       "    <tr>\n",
       "      <td>4</td>\n",
       "      <td>482F14783456D21B</td>\n",
       "      <td>B</td>\n",
       "      <td>recommender_system_test</td>\n",
       "    </tr>\n",
       "  </tbody>\n",
       "</table>\n",
       "</div>"
      ],
      "text/plain": [
       "            user_id group                  ab_test\n",
       "0  D1ABA3E2887B6A73     A  recommender_system_test\n",
       "1  A7A3664BD6242119     A  recommender_system_test\n",
       "2  DABC14FDDFADD29E     A  recommender_system_test\n",
       "3  04988C5DF189632E     A  recommender_system_test\n",
       "4  482F14783456D21B     B  recommender_system_test"
      ]
     },
     "metadata": {},
     "output_type": "display_data"
    }
   ],
   "source": [
    "#Let’s read the data from the csv and check what we have there.\n",
    "#table from the csv file will be saved as df1:\n",
    "\n",
    "df4 = pd.read_csv('/datasets/final_ab_participants_us.csv', sep=',')\n",
    "df4.info()\n",
    "display(df4.head())"
   ]
  },
  {
   "cell_type": "markdown",
   "metadata": {},
   "source": [
    "### 1.2 Conclusion <a class=\"anchor\" id=\"start-conc\"></a>\n",
    "\n",
    "In the present research we are working with a 4 data sets of the user behaviour for the international online store. \n",
    "\n",
    "Datasets were saved in the following tables: \n",
    "\n",
    "**df1** for the csv file ab_project_marketing_events_us. Its total length is 14 rows, every row represents one marketing event and its characteristics in columns: name — the name of the marketing event; regions — regions where the ad campaign will be held; start_dt — campaign start date; finish_dt — campaign end date.\n",
    "\n",
    "**df2** for the csv file final_ab_new_users_us. Its total length is 61733 rows, every row represents registration details for one user and its characteristics in columns: user_id - user's unique identifier; first_date — sign-up date; region - where the user is registered; device — device used to sign up.\n",
    "\n",
    "**df3** for the csv file final_ab_events_us. Its total length is 440317 rows, every row represents one log entry and its characteristics in columns: user_id - user's unique identifier; event_dt — event date and time; event_name — event type name; details — additional data on the event (for instance, the order total in USD for `purchase` events).\n",
    "\n",
    "\n",
    "**df4** for the csv file final_ab_participants_us. Its total length is 18268 rows, every row represents one A/B test participant characteristics in the following columns: user_id - user's unique identifier; ab_test — test name; group — the test group the user belonged to.\n"
   ]
  },
  {
   "cell_type": "markdown",
   "metadata": {},
   "source": [
    "## Step 2. Data analysis <a class=\"anchor\" id=\"analysis\"></a>"
   ]
  },
  {
   "cell_type": "markdown",
   "metadata": {},
   "source": [
    "Let's prepare the data for analysis: rename the columns, check for missing values and data types, correct the data if needed, add a date and time column and a separate column for dates."
   ]
  },
  {
   "cell_type": "markdown",
   "metadata": {},
   "source": [
    "Checking missing values"
   ]
  },
  {
   "cell_type": "code",
   "execution_count": 10,
   "metadata": {},
   "outputs": [
    {
     "data": {
      "text/html": [
       "<div>\n",
       "<style scoped>\n",
       "    .dataframe tbody tr th:only-of-type {\n",
       "        vertical-align: middle;\n",
       "    }\n",
       "\n",
       "    .dataframe tbody tr th {\n",
       "        vertical-align: top;\n",
       "    }\n",
       "\n",
       "    .dataframe thead th {\n",
       "        text-align: right;\n",
       "    }\n",
       "</style>\n",
       "<table border=\"1\" class=\"dataframe\">\n",
       "  <thead>\n",
       "    <tr style=\"text-align: right;\">\n",
       "      <th></th>\n",
       "      <th>name</th>\n",
       "      <th>regions</th>\n",
       "      <th>start_dt</th>\n",
       "      <th>finish_dt</th>\n",
       "    </tr>\n",
       "  </thead>\n",
       "  <tbody>\n",
       "  </tbody>\n",
       "</table>\n",
       "</div>"
      ],
      "text/plain": [
       "Empty DataFrame\n",
       "Columns: [name, regions, start_dt, finish_dt]\n",
       "Index: []"
      ]
     },
     "execution_count": 10,
     "metadata": {},
     "output_type": "execute_result"
    }
   ],
   "source": [
    "#checking missing values\n",
    "df1[df1.isnull().any(axis=1)] "
   ]
  },
  {
   "cell_type": "code",
   "execution_count": 11,
   "metadata": {},
   "outputs": [
    {
     "data": {
      "text/html": [
       "<div>\n",
       "<style scoped>\n",
       "    .dataframe tbody tr th:only-of-type {\n",
       "        vertical-align: middle;\n",
       "    }\n",
       "\n",
       "    .dataframe tbody tr th {\n",
       "        vertical-align: top;\n",
       "    }\n",
       "\n",
       "    .dataframe thead th {\n",
       "        text-align: right;\n",
       "    }\n",
       "</style>\n",
       "<table border=\"1\" class=\"dataframe\">\n",
       "  <thead>\n",
       "    <tr style=\"text-align: right;\">\n",
       "      <th></th>\n",
       "      <th>user_id</th>\n",
       "      <th>first_date</th>\n",
       "      <th>region</th>\n",
       "      <th>device</th>\n",
       "    </tr>\n",
       "  </thead>\n",
       "  <tbody>\n",
       "  </tbody>\n",
       "</table>\n",
       "</div>"
      ],
      "text/plain": [
       "Empty DataFrame\n",
       "Columns: [user_id, first_date, region, device]\n",
       "Index: []"
      ]
     },
     "execution_count": 11,
     "metadata": {},
     "output_type": "execute_result"
    }
   ],
   "source": [
    "df2[df2.isnull().any(axis=1)] \n"
   ]
  },
  {
   "cell_type": "code",
   "execution_count": 12,
   "metadata": {},
   "outputs": [
    {
     "data": {
      "text/html": [
       "<div>\n",
       "<style scoped>\n",
       "    .dataframe tbody tr th:only-of-type {\n",
       "        vertical-align: middle;\n",
       "    }\n",
       "\n",
       "    .dataframe tbody tr th {\n",
       "        vertical-align: top;\n",
       "    }\n",
       "\n",
       "    .dataframe thead th {\n",
       "        text-align: right;\n",
       "    }\n",
       "</style>\n",
       "<table border=\"1\" class=\"dataframe\">\n",
       "  <thead>\n",
       "    <tr style=\"text-align: right;\">\n",
       "      <th></th>\n",
       "      <th>user_id</th>\n",
       "      <th>group</th>\n",
       "      <th>ab_test</th>\n",
       "    </tr>\n",
       "  </thead>\n",
       "  <tbody>\n",
       "  </tbody>\n",
       "</table>\n",
       "</div>"
      ],
      "text/plain": [
       "Empty DataFrame\n",
       "Columns: [user_id, group, ab_test]\n",
       "Index: []"
      ]
     },
     "execution_count": 12,
     "metadata": {},
     "output_type": "execute_result"
    }
   ],
   "source": [
    "df4[df4.isnull().any(axis=1)] \n"
   ]
  },
  {
   "cell_type": "code",
   "execution_count": 13,
   "metadata": {},
   "outputs": [
    {
     "name": "stdout",
     "output_type": "stream",
     "text": [
      "missing values in details column (final_ab_events_us table): 86%\n"
     ]
    }
   ],
   "source": [
    "df3[df3.isnull().any(axis=1)] \n",
    "#mssing values --> details column\n",
    "#that is additional data on the event (for instance, the order total in USD for purchase events)\n",
    "print(\n",
    "    'missing values in details column (final_ab_events_us table): {:.0%}' \n",
    "    .format(df3.details.isnull().sum()/len(df3))\n",
    ")"
   ]
  },
  {
   "cell_type": "markdown",
   "metadata": {},
   "source": [
    "Changeing data types"
   ]
  },
  {
   "cell_type": "code",
   "execution_count": 14,
   "metadata": {},
   "outputs": [],
   "source": [
    "#let's make sure all date columns are saved as date data type instead of string\n",
    "\n",
    "df1['start_dt'] = df1['start_dt'].astype('datetime64[D]')\n",
    "df1['finish_dt'] = df1['finish_dt'].astype('datetime64[D]')\n",
    "\n",
    "df2['first_date'] = pd.to_datetime(df2['first_date']).dt.normalize()\n",
    "\n",
    "df3['event_dt'] = pd.to_datetime(df3['event_dt']).dt.normalize()\n"
   ]
  },
  {
   "cell_type": "markdown",
   "metadata": {},
   "source": [
    "Checking for duplicates"
   ]
  },
  {
   "cell_type": "code",
   "execution_count": 15,
   "metadata": {},
   "outputs": [
    {
     "data": {
      "text/html": [
       "<div>\n",
       "<style scoped>\n",
       "    .dataframe tbody tr th:only-of-type {\n",
       "        vertical-align: middle;\n",
       "    }\n",
       "\n",
       "    .dataframe tbody tr th {\n",
       "        vertical-align: top;\n",
       "    }\n",
       "\n",
       "    .dataframe thead th {\n",
       "        text-align: right;\n",
       "    }\n",
       "</style>\n",
       "<table border=\"1\" class=\"dataframe\">\n",
       "  <thead>\n",
       "    <tr style=\"text-align: right;\">\n",
       "      <th></th>\n",
       "      <th>name</th>\n",
       "      <th>regions</th>\n",
       "      <th>start_dt</th>\n",
       "      <th>finish_dt</th>\n",
       "    </tr>\n",
       "  </thead>\n",
       "  <tbody>\n",
       "  </tbody>\n",
       "</table>\n",
       "</div>"
      ],
      "text/plain": [
       "Empty DataFrame\n",
       "Columns: [name, regions, start_dt, finish_dt]\n",
       "Index: []"
      ]
     },
     "execution_count": 15,
     "metadata": {},
     "output_type": "execute_result"
    }
   ],
   "source": [
    "df1[df1.duplicated()]\n",
    "#no duplicates"
   ]
  },
  {
   "cell_type": "code",
   "execution_count": 16,
   "metadata": {},
   "outputs": [
    {
     "data": {
      "text/html": [
       "<div>\n",
       "<style scoped>\n",
       "    .dataframe tbody tr th:only-of-type {\n",
       "        vertical-align: middle;\n",
       "    }\n",
       "\n",
       "    .dataframe tbody tr th {\n",
       "        vertical-align: top;\n",
       "    }\n",
       "\n",
       "    .dataframe thead th {\n",
       "        text-align: right;\n",
       "    }\n",
       "</style>\n",
       "<table border=\"1\" class=\"dataframe\">\n",
       "  <thead>\n",
       "    <tr style=\"text-align: right;\">\n",
       "      <th></th>\n",
       "      <th>user_id</th>\n",
       "      <th>first_date</th>\n",
       "      <th>region</th>\n",
       "      <th>device</th>\n",
       "    </tr>\n",
       "  </thead>\n",
       "  <tbody>\n",
       "  </tbody>\n",
       "</table>\n",
       "</div>"
      ],
      "text/plain": [
       "Empty DataFrame\n",
       "Columns: [user_id, first_date, region, device]\n",
       "Index: []"
      ]
     },
     "execution_count": 16,
     "metadata": {},
     "output_type": "execute_result"
    }
   ],
   "source": [
    "df2[df2.duplicated()]\n",
    "#no duplicates"
   ]
  },
  {
   "cell_type": "code",
   "execution_count": 17,
   "metadata": {},
   "outputs": [
    {
     "data": {
      "text/html": [
       "<div>\n",
       "<style scoped>\n",
       "    .dataframe tbody tr th:only-of-type {\n",
       "        vertical-align: middle;\n",
       "    }\n",
       "\n",
       "    .dataframe tbody tr th {\n",
       "        vertical-align: top;\n",
       "    }\n",
       "\n",
       "    .dataframe thead th {\n",
       "        text-align: right;\n",
       "    }\n",
       "</style>\n",
       "<table border=\"1\" class=\"dataframe\">\n",
       "  <thead>\n",
       "    <tr style=\"text-align: right;\">\n",
       "      <th></th>\n",
       "      <th>user_id</th>\n",
       "      <th>group</th>\n",
       "      <th>ab_test</th>\n",
       "    </tr>\n",
       "  </thead>\n",
       "  <tbody>\n",
       "  </tbody>\n",
       "</table>\n",
       "</div>"
      ],
      "text/plain": [
       "Empty DataFrame\n",
       "Columns: [user_id, group, ab_test]\n",
       "Index: []"
      ]
     },
     "execution_count": 17,
     "metadata": {},
     "output_type": "execute_result"
    }
   ],
   "source": [
    "df4[df4.duplicated()]\n",
    "#no duplicates"
   ]
  },
  {
   "cell_type": "code",
   "execution_count": 18,
   "metadata": {},
   "outputs": [
    {
     "data": {
      "text/html": [
       "<div>\n",
       "<style scoped>\n",
       "    .dataframe tbody tr th:only-of-type {\n",
       "        vertical-align: middle;\n",
       "    }\n",
       "\n",
       "    .dataframe tbody tr th {\n",
       "        vertical-align: top;\n",
       "    }\n",
       "\n",
       "    .dataframe thead th {\n",
       "        text-align: right;\n",
       "    }\n",
       "</style>\n",
       "<table border=\"1\" class=\"dataframe\">\n",
       "  <thead>\n",
       "    <tr style=\"text-align: right;\">\n",
       "      <th></th>\n",
       "      <th>user_id</th>\n",
       "      <th>event_dt</th>\n",
       "      <th>event_name</th>\n",
       "      <th>details</th>\n",
       "    </tr>\n",
       "  </thead>\n",
       "  <tbody>\n",
       "    <tr>\n",
       "      <td>41759</td>\n",
       "      <td>72C55C38CAE0B00B</td>\n",
       "      <td>2020-12-21</td>\n",
       "      <td>purchase</td>\n",
       "      <td>4.99</td>\n",
       "    </tr>\n",
       "    <tr>\n",
       "      <td>377026</td>\n",
       "      <td>72C55C38CAE0B00B</td>\n",
       "      <td>2020-12-21</td>\n",
       "      <td>login</td>\n",
       "      <td>NaN</td>\n",
       "    </tr>\n",
       "  </tbody>\n",
       "</table>\n",
       "</div>"
      ],
      "text/plain": [
       "                 user_id   event_dt event_name  details\n",
       "41759   72C55C38CAE0B00B 2020-12-21   purchase     4.99\n",
       "377026  72C55C38CAE0B00B 2020-12-21      login      NaN"
      ]
     },
     "execution_count": 18,
     "metadata": {},
     "output_type": "execute_result"
    }
   ],
   "source": [
    "df3[df3.duplicated()]\n",
    "# there is a duplicated entry that we'll drop"
   ]
  },
  {
   "cell_type": "code",
   "execution_count": 19,
   "metadata": {},
   "outputs": [
    {
     "name": "stdout",
     "output_type": "stream",
     "text": [
      "<class 'pandas.core.frame.DataFrame'>\n",
      "RangeIndex: 440315 entries, 0 to 440314\n",
      "Data columns (total 4 columns):\n",
      "user_id       440315 non-null object\n",
      "event_dt      440315 non-null datetime64[ns]\n",
      "event_name    440315 non-null object\n",
      "details       62739 non-null float64\n",
      "dtypes: datetime64[ns](1), float64(1), object(2)\n",
      "memory usage: 13.4+ MB\n"
     ]
    }
   ],
   "source": [
    "#let's drop duplicates\n",
    "df3 = df3.drop_duplicates().reset_index(drop=True)\n",
    "df3.info()"
   ]
  },
  {
   "cell_type": "markdown",
   "metadata": {},
   "source": [
    "### 2.1 Conclusion <a class=\"anchor\" id=\"analysis-conc\"></a>\n",
    "\n",
    "In the present step we prepared the data for analysis: checked missing values - 86% of details column regarding prices data is missing (we'll see if we can skip using it). Regarding data types, we corrects the date and time in df1, df2 and df3 tables. There was a duplicated entry in the df3 table that we droped."
   ]
  },
  {
   "cell_type": "markdown",
   "metadata": {},
   "source": [
    "## Step 3. Carrying out exploratory data analysis\n",
    " <a class=\"anchor\" id=\"chincking\"></a>"
   ]
  },
  {
   "cell_type": "markdown",
   "metadata": {},
   "source": [
    "In this step we'll study conversion at different funnel stages; checking wheather the number of events per user distributed equally in the sample or not; checking if we have users who enter both samples; checking the number of events distributed by days; outlining details in the data that will be taken into account before starting the A/B test."
   ]
  },
  {
   "cell_type": "markdown",
   "metadata": {},
   "source": [
    "First, let's prepare the data."
   ]
  },
  {
   "cell_type": "code",
   "execution_count": 20,
   "metadata": {},
   "outputs": [
    {
     "data": {
      "text/plain": [
       "group  ab_test                \n",
       "A      interface_eu_test          5831\n",
       "       recommender_system_test    3824\n",
       "B      interface_eu_test          5736\n",
       "       recommender_system_test    2877\n",
       "dtype: int64"
      ]
     },
     "execution_count": 20,
     "metadata": {},
     "output_type": "execute_result"
    }
   ],
   "source": [
    "#let's check what tests do we have\n",
    "df4.groupby(['group','ab_test']).size()"
   ]
  },
  {
   "cell_type": "markdown",
   "metadata": {},
   "source": [
    "As our research is done for the interface_eu_test, let's drop participants from other test (recommender_system_test), that is not relevant here. As we would not know what screen saw the user in the event table, we will drop/exclude all the users, who were in the recommender_system_test as well."
   ]
  },
  {
   "cell_type": "code",
   "execution_count": 21,
   "metadata": {},
   "outputs": [
    {
     "data": {
      "text/plain": [
       "6701"
      ]
     },
     "execution_count": 21,
     "metadata": {},
     "output_type": "execute_result"
    }
   ],
   "source": [
    "old_test=df4[df4.ab_test==\"recommender_system_test\"]['user_id'].unique()\n",
    "len(old_test)"
   ]
  },
  {
   "cell_type": "code",
   "execution_count": 22,
   "metadata": {},
   "outputs": [
    {
     "data": {
      "text/plain": [
       "array(['D1ABA3E2887B6A73', 'A7A3664BD6242119', 'DABC14FDDFADD29E', ...,\n",
       "       'F2FBBA33F37DEC46', '29C92313A98B1176', '6715343AFBA285AE'],\n",
       "      dtype=object)"
      ]
     },
     "execution_count": 22,
     "metadata": {},
     "output_type": "execute_result"
    }
   ],
   "source": [
    "old_test"
   ]
  },
  {
   "cell_type": "code",
   "execution_count": 23,
   "metadata": {},
   "outputs": [
    {
     "name": "stdout",
     "output_type": "stream",
     "text": [
      "<class 'pandas.core.frame.DataFrame'>\n",
      "Int64Index: 11567 entries, 6701 to 18267\n",
      "Data columns (total 3 columns):\n",
      "user_id    11567 non-null object\n",
      "group      11567 non-null object\n",
      "ab_test    11567 non-null object\n",
      "dtypes: object(3)\n",
      "memory usage: 361.5+ KB\n"
     ]
    }
   ],
   "source": [
    "df4.drop(df4[df4['ab_test']=='recommender_system_test'].index, axis=0, inplace=True)\n",
    "df4.info()"
   ]
  },
  {
   "cell_type": "code",
   "execution_count": 24,
   "metadata": {},
   "outputs": [
    {
     "data": {
      "text/plain": [
       "group  ab_test          \n",
       "A      interface_eu_test    5831\n",
       "B      interface_eu_test    5736\n",
       "dtype: int64"
      ]
     },
     "execution_count": 24,
     "metadata": {},
     "output_type": "execute_result"
    }
   ],
   "source": [
    "df4.groupby(['group','ab_test']).size()"
   ]
  },
  {
   "cell_type": "code",
   "execution_count": 25,
   "metadata": {},
   "outputs": [],
   "source": [
    "#let's merge our users' tables into one: df2, df3 and df4 into df\n",
    "df = df2.merge(df4, on='user_id', how='left')\n",
    "df = df.merge(df3, on='user_id', how='left')\n",
    "#df\n",
    "#df.groupby(['group','ab_test']).nunique()"
   ]
  },
  {
   "cell_type": "code",
   "execution_count": 26,
   "metadata": {},
   "outputs": [],
   "source": [
    "#let's drop all users that are not in our groups = A or B\n",
    "df=df.dropna(subset=['group'])"
   ]
  },
  {
   "cell_type": "code",
   "execution_count": 27,
   "metadata": {},
   "outputs": [],
   "source": [
    "#let's drop users who participated in the old test\n",
    "df = df[~df.user_id.isin(old_test)]\n",
    "#df"
   ]
  },
  {
   "cell_type": "code",
   "execution_count": 28,
   "metadata": {},
   "outputs": [
    {
     "name": "stdout",
     "output_type": "stream",
     "text": [
      "Amount of 1st group users: 5012\n"
     ]
    }
   ],
   "source": [
    "#let's check number of users in every group \n",
    "testA=df[df.group==\"A\"]['user_id'].unique()\n",
    "print('Amount of 1st group users: {}'.format(len(testA)))\n"
   ]
  },
  {
   "cell_type": "code",
   "execution_count": 29,
   "metadata": {},
   "outputs": [
    {
     "name": "stdout",
     "output_type": "stream",
     "text": [
      "Amount of 1st group users: 4953\n"
     ]
    }
   ],
   "source": [
    "#let's check number of users in every group \n",
    "testB=df[df.group==\"B\"]['user_id'].unique()\n",
    "print('Amount of 1st group users: {}'.format(len(testB)))\n"
   ]
  },
  {
   "cell_type": "code",
   "execution_count": 30,
   "metadata": {},
   "outputs": [
    {
     "data": {
      "text/html": [
       "<div>\n",
       "<style scoped>\n",
       "    .dataframe tbody tr th:only-of-type {\n",
       "        vertical-align: middle;\n",
       "    }\n",
       "\n",
       "    .dataframe tbody tr th {\n",
       "        vertical-align: top;\n",
       "    }\n",
       "\n",
       "    .dataframe thead th {\n",
       "        text-align: right;\n",
       "    }\n",
       "</style>\n",
       "<table border=\"1\" class=\"dataframe\">\n",
       "  <thead>\n",
       "    <tr style=\"text-align: right;\">\n",
       "      <th></th>\n",
       "      <th>user_id</th>\n",
       "      <th>first_date</th>\n",
       "      <th>region</th>\n",
       "      <th>device</th>\n",
       "      <th>group</th>\n",
       "      <th>ab_test</th>\n",
       "      <th>event_dt</th>\n",
       "      <th>event_name</th>\n",
       "      <th>details</th>\n",
       "    </tr>\n",
       "  </thead>\n",
       "  <tbody>\n",
       "  </tbody>\n",
       "</table>\n",
       "</div>"
      ],
      "text/plain": [
       "Empty DataFrame\n",
       "Columns: [user_id, first_date, region, device, group, ab_test, event_dt, event_name, details]\n",
       "Index: []"
      ]
     },
     "execution_count": 30,
     "metadata": {},
     "output_type": "execute_result"
    }
   ],
   "source": [
    "#let's check if there are users in both groups A and B\n",
    "a=df.query('user_id in @testA')\n",
    "ab=a.query('user_id in @testB')\n",
    "ab\n",
    "#there are no users in both groups"
   ]
  },
  {
   "cell_type": "markdown",
   "metadata": {},
   "source": [
    "Our further analysis will be based on each group A and B.\n"
   ]
  },
  {
   "cell_type": "code",
   "execution_count": 31,
   "metadata": {},
   "outputs": [
    {
     "name": "stdout",
     "output_type": "stream",
     "text": [
      "<class 'pandas.core.frame.DataFrame'>\n",
      "Int64Index: 76035 entries, 8 to 443342\n",
      "Data columns (total 9 columns):\n",
      "user_id       76035 non-null object\n",
      "first_date    76035 non-null datetime64[ns]\n",
      "region        76035 non-null object\n",
      "device        76035 non-null object\n",
      "group         76035 non-null object\n",
      "ab_test       76035 non-null object\n",
      "event_dt      76033 non-null datetime64[ns]\n",
      "event_name    76033 non-null object\n",
      "details       11237 non-null float64\n",
      "dtypes: datetime64[ns](2), float64(1), object(6)\n",
      "memory usage: 5.8+ MB\n"
     ]
    }
   ],
   "source": [
    "df.info()"
   ]
  },
  {
   "cell_type": "code",
   "execution_count": 32,
   "metadata": {},
   "outputs": [
    {
     "data": {
      "text/plain": [
       "9965"
      ]
     },
     "execution_count": 32,
     "metadata": {},
     "output_type": "execute_result"
    }
   ],
   "source": [
    "#how many users we have\n",
    "df.user_id.nunique()"
   ]
  },
  {
   "cell_type": "code",
   "execution_count": 33,
   "metadata": {},
   "outputs": [
    {
     "data": {
      "text/plain": [
       "A    38533\n",
       "B    37502\n",
       "Name: group, dtype: int64"
      ]
     },
     "execution_count": 33,
     "metadata": {},
     "output_type": "execute_result"
    }
   ],
   "source": [
    "#how many events in each group\n",
    "df.group.value_counts()"
   ]
  },
  {
   "cell_type": "code",
   "execution_count": 34,
   "metadata": {},
   "outputs": [
    {
     "name": "stdout",
     "output_type": "stream",
     "text": [
      "Min date: 2020-12-07 00:00:00\n",
      "Max date: 2020-12-30 00:00:00\n"
     ]
    }
   ],
   "source": [
    "#period of time does the data cover (max and min event date)\n",
    "print('Min date:',df.event_dt.min())\n",
    "print('Max date:',df.event_dt.max())"
   ]
  },
  {
   "cell_type": "code",
   "execution_count": 35,
   "metadata": {},
   "outputs": [
    {
     "name": "stdout",
     "output_type": "stream",
     "text": [
      "Min date: 2020-12-07 00:00:00\n",
      "Max date: 2020-12-23 00:00:00\n"
     ]
    }
   ],
   "source": [
    "#period of time of registration (max and min date)\n",
    "print('Min date:',df.first_date.min())\n",
    "print('Max date:',df.first_date.max())"
   ]
  },
  {
   "cell_type": "code",
   "execution_count": 36,
   "metadata": {},
   "outputs": [
    {
     "name": "stdout",
     "output_type": "stream",
     "text": [
      "Average number of events per user: 3\n"
     ]
    }
   ],
   "source": [
    "#average number of events per user\n",
    "avg_events_user=int(round(df.groupby('user_id').agg({'event_dt':'nunique'}).mean()))\n",
    "print('Average number of events per user: {}'.format(avg_events_user))"
   ]
  },
  {
   "cell_type": "code",
   "execution_count": 37,
   "metadata": {},
   "outputs": [],
   "source": [
    "#number of events per user\n",
    "x=df.groupby(['user_id','group']).agg({'event_dt':'nunique'}).reset_index()\n",
    "#x.groupby(['group','event_dt']).size()"
   ]
  },
  {
   "cell_type": "code",
   "execution_count": 38,
   "metadata": {},
   "outputs": [
    {
     "data": {
      "image/png": "[encoded data removed]",
      "text/plain": [
       "<Figure size 1080x360 with 1 Axes>"
      ]
     },
     "metadata": {
      "needs_background": "light"
     },
     "output_type": "display_data"
    }
   ],
   "source": [
    "#histogram events per user distribution\n",
    "x.event_dt.hist(\n",
    "    bins = 30, histtype='step', \n",
    "    alpha=0.7, grid=True, figsize = (15,5),\n",
    "    linewidth=5, color='blue')\n",
    "plt.show()"
   ]
  },
  {
   "cell_type": "code",
   "execution_count": 39,
   "metadata": {},
   "outputs": [
    {
     "data": {
      "image/png": "[encoded data removed]",
      "text/plain": [
       "<Figure size 720x360 with 2 Axes>"
      ]
     },
     "metadata": {
      "needs_background": "light"
     },
     "output_type": "display_data"
    }
   ],
   "source": [
    "#events per user distribution: group A vs B\n",
    "sns.displot(data=x, x=\"event_dt\", col=\"group\", multiple=\"dodge\", \n",
    "            bins = 30, alpha=0.7,\n",
    "            color='blue')\n",
    "plt.show()"
   ]
  },
  {
   "cell_type": "code",
   "execution_count": 40,
   "metadata": {},
   "outputs": [
    {
     "data": {
      "image/png": "[encoded data removed]",
      "text/plain": [
       "<Figure size 1080x360 with 1 Axes>"
      ]
     },
     "metadata": {
      "needs_background": "light"
     },
     "output_type": "display_data"
    }
   ],
   "source": [
    "#histogram by date and time\n",
    "df.event_dt.hist(\n",
    "    bins = 30, histtype='step', \n",
    "    alpha=0.7, grid=True, figsize = (15,5),\n",
    "    linewidth=5, color='#ff33e9')\n",
    "plt.show()"
   ]
  },
  {
   "cell_type": "markdown",
   "metadata": {},
   "source": [
    "Thus, in our table we have :\n",
    "\n",
    "- 76,035 events\n",
    "- 9,965 users\n",
    "- 3 is the average number of events per user\n",
    "- Period of time does the data covers\n",
    "    - from 2020-12-07 to 2020-12-30\n",
    "    \n",
    "There are 5012 unique users in a group A and 4953 in group B.\n",
    "\n",
    "In group A - 38,533 events, in group B - 37,502."
   ]
  },
  {
   "cell_type": "markdown",
   "metadata": {},
   "source": [
    "Let's study conversion at different funnel stages now."
   ]
  },
  {
   "cell_type": "markdown",
   "metadata": {},
   "source": [
    "Events and their frequency"
   ]
  },
  {
   "cell_type": "code",
   "execution_count": 41,
   "metadata": {},
   "outputs": [
    {
     "data": {
      "text/plain": [
       "group  event_name  \n",
       "A      login           16354\n",
       "       product_cart     5402\n",
       "       product_page    10932\n",
       "       purchase         5844\n",
       "B      login           16102\n",
       "       product_cart     5475\n",
       "       product_page    10531\n",
       "       purchase         5393\n",
       "dtype: int64"
      ]
     },
     "execution_count": 41,
     "metadata": {},
     "output_type": "execute_result"
    }
   ],
   "source": [
    "#event types per group\n",
    "df.groupby(['group','event_name']).size()"
   ]
  },
  {
   "cell_type": "markdown",
   "metadata": {},
   "source": [
    "While checking event types (stages) and their frequency of occurrence, we found that \n",
    "- for group A login appeared 16354 times, then product_page - 10932 times, purchase - 5844 and product_cart - 5402 times;\n",
    "\n",
    "- for group B login appeared 16102 times, then product_page - 10531 times, product_cart - 5475 times and purchase - 5393."
   ]
  },
  {
   "cell_type": "markdown",
   "metadata": {},
   "source": [
    "Sequence of event types:"
   ]
  },
  {
   "cell_type": "markdown",
   "metadata": {},
   "source": [
    "Based on the above findings, we confirm the assumption of the test that the sequence is as follows:\n",
    "\n",
    "A login --> B product_page --> C product_cart --> D purchase\n",
    "\n",
    "We would suppose that product_cart is an optional part for the group B (testing new payment funnel) and the user can go directly to the purchase stage.\n"
   ]
  },
  {
   "cell_type": "markdown",
   "metadata": {},
   "source": [
    "Let's check conversion at different funnel stages (share of users that proceed from each stage to the next). "
   ]
  },
  {
   "cell_type": "code",
   "execution_count": 42,
   "metadata": {},
   "outputs": [
    {
     "data": {
      "text/html": [
       "<div>\n",
       "<style scoped>\n",
       "    .dataframe tbody tr th:only-of-type {\n",
       "        vertical-align: middle;\n",
       "    }\n",
       "\n",
       "    .dataframe tbody tr th {\n",
       "        vertical-align: top;\n",
       "    }\n",
       "\n",
       "    .dataframe thead th {\n",
       "        text-align: right;\n",
       "    }\n",
       "</style>\n",
       "<table border=\"1\" class=\"dataframe\">\n",
       "  <thead>\n",
       "    <tr style=\"text-align: right;\">\n",
       "      <th>event_name</th>\n",
       "      <th>user_id</th>\n",
       "      <th>group</th>\n",
       "      <th>login</th>\n",
       "      <th>product_cart</th>\n",
       "      <th>product_page</th>\n",
       "      <th>purchase</th>\n",
       "    </tr>\n",
       "  </thead>\n",
       "  <tbody>\n",
       "    <tr>\n",
       "      <td>0</td>\n",
       "      <td>0002CE61FF2C4011</td>\n",
       "      <td>A</td>\n",
       "      <td>1.0</td>\n",
       "      <td>1.0</td>\n",
       "      <td>1.0</td>\n",
       "      <td>NaN</td>\n",
       "    </tr>\n",
       "    <tr>\n",
       "      <td>1</td>\n",
       "      <td>001E72F50D1C48FA</td>\n",
       "      <td>B</td>\n",
       "      <td>1.0</td>\n",
       "      <td>NaN</td>\n",
       "      <td>1.0</td>\n",
       "      <td>NaN</td>\n",
       "    </tr>\n",
       "    <tr>\n",
       "      <td>2</td>\n",
       "      <td>002412F1EB3F6E38</td>\n",
       "      <td>A</td>\n",
       "      <td>1.0</td>\n",
       "      <td>NaN</td>\n",
       "      <td>1.0</td>\n",
       "      <td>NaN</td>\n",
       "    </tr>\n",
       "    <tr>\n",
       "      <td>3</td>\n",
       "      <td>002540BE89C930FB</td>\n",
       "      <td>A</td>\n",
       "      <td>1.0</td>\n",
       "      <td>1.0</td>\n",
       "      <td>1.0</td>\n",
       "      <td>NaN</td>\n",
       "    </tr>\n",
       "    <tr>\n",
       "      <td>4</td>\n",
       "      <td>0031F1B5E9FBF708</td>\n",
       "      <td>B</td>\n",
       "      <td>1.0</td>\n",
       "      <td>NaN</td>\n",
       "      <td>NaN</td>\n",
       "      <td>1.0</td>\n",
       "    </tr>\n",
       "  </tbody>\n",
       "</table>\n",
       "</div>"
      ],
      "text/plain": [
       "event_name           user_id group  login  product_cart  product_page  \\\n",
       "0           0002CE61FF2C4011     A    1.0           1.0           1.0   \n",
       "1           001E72F50D1C48FA     B    1.0           NaN           1.0   \n",
       "2           002412F1EB3F6E38     A    1.0           NaN           1.0   \n",
       "3           002540BE89C930FB     A    1.0           1.0           1.0   \n",
       "4           0031F1B5E9FBF708     B    1.0           NaN           NaN   \n",
       "\n",
       "event_name  purchase  \n",
       "0                NaN  \n",
       "1                NaN  \n",
       "2                NaN  \n",
       "3                NaN  \n",
       "4                1.0  "
      ]
     },
     "execution_count": 42,
     "metadata": {},
     "output_type": "execute_result"
    }
   ],
   "source": [
    "funnel=df.groupby(\n",
    "    ['user_id','group','event_name']).agg({'event_dt':'count'}).reset_index()\n",
    "funnel_pv=funnel.pivot_table(\n",
    "    index=['user_id','group'], columns='event_name', \n",
    "    values='event_dt', aggfunc='count').reset_index()\n",
    "funnel_pv.head()\n",
    "#all_funnel_pv=funnel_pv.dropna()\n",
    "#all_funnel_pv"
   ]
  },
  {
   "cell_type": "markdown",
   "metadata": {},
   "source": [
    "Let's check users who went through the login (A), product_page (B), product_cart (C) and the purchase (D) screens"
   ]
  },
  {
   "cell_type": "code",
   "execution_count": 43,
   "metadata": {},
   "outputs": [
    {
     "name": "stdout",
     "output_type": "stream",
     "text": [
      "a_stage: group A 5010\n",
      "a_stage: group B 4952\n",
      "\n",
      "a_b_stage group A 3366\n",
      "ratio b to a stage group A 0.67\n",
      "a_b_stage group B 3254\n",
      "ratio b to a stage group B 0.66\n",
      "\n"
     ]
    }
   ],
   "source": [
    "#users who went through the login (A) to product_page (B)\n",
    "\n",
    "a_stage_Agroup=funnel_pv.query('login >=1 and group==\"A\"')['user_id']\n",
    "print('a_stage: group A',a_stage_Agroup.nunique())\n",
    "a_stage_Bgroup=funnel_pv.query('login >=1 and group==\"B\"')['user_id']\n",
    "print('a_stage: group B',a_stage_Bgroup.nunique())\n",
    "print()\n",
    "\n",
    "a_b_stage_Agroup=funnel_pv.query('login >=1 & product_page >=1 and group==\"A\"')['user_id']\n",
    "print('a_b_stage group A',a_b_stage_Agroup.nunique())\n",
    "print('ratio b to a stage group A',round(a_b_stage_Agroup.nunique()/a_stage_Agroup.nunique(),2))\n",
    "a_b_stage_Bgroup=funnel_pv.query('login >=1 & product_page >=1 and group==\"B\"')['user_id']\n",
    "print('a_b_stage group B',a_b_stage_Bgroup.nunique())\n",
    "print('ratio b to a stage group B',round(a_b_stage_Bgroup.nunique()/a_stage_Bgroup.nunique(),2))\n",
    "print()"
   ]
  },
  {
   "cell_type": "code",
   "execution_count": 44,
   "metadata": {},
   "outputs": [
    {
     "name": "stdout",
     "output_type": "stream",
     "text": [
      "a_b_c_stage group A 1079\n",
      "ratio c to b stage group A 0.32\n",
      "a_b_c_stage group B 1108\n",
      "ratio c to b stage group B 0.34\n",
      "\n"
     ]
    }
   ],
   "source": [
    "#users who went through the login (A) to product_page (B),\n",
    "#product_cart (C)\n",
    "a_b_c_stage_Agroup=funnel_pv.query('login >=1 & product_page >=1 & product_cart >=1 and group==\"A\"')['user_id']\n",
    "print('a_b_c_stage group A',a_b_c_stage_Agroup.nunique())\n",
    "print('ratio c to b stage group A',round(a_b_c_stage_Agroup.nunique()/a_b_stage_Agroup.nunique(),2))\n",
    "a_b_c_stage_Bgroup=funnel_pv.query('login >=1 & product_page >=1 & product_cart >=1 and group==\"B\"')['user_id']\n",
    "print('a_b_c_stage group B',a_b_c_stage_Bgroup.nunique())\n",
    "print('ratio c to b stage group B',round(a_b_c_stage_Bgroup.nunique()/a_b_stage_Bgroup.nunique(),2))\n",
    "print()\n",
    "\n"
   ]
  },
  {
   "cell_type": "code",
   "execution_count": 45,
   "metadata": {},
   "outputs": [
    {
     "name": "stdout",
     "output_type": "stream",
     "text": [
      "a_b_c_d_stage group A 380\n",
      "ratio d to c stage group A 0.35\n",
      "a_b_c_d_stage group B 368\n",
      "ratio d to c stage group B 0.33\n"
     ]
    }
   ],
   "source": [
    "#users who went through the login (A) to product_page (B),\n",
    "#tproduct_cart (C) and the purchase (D) screens\n",
    "\n",
    "a_b_c_d_stage_Agroup=funnel_pv.query('login >=1 & product_page >=1 & product_cart >=1 & purchase>=1 and group==\"A\"')['user_id']\n",
    "print('a_b_c_d_stage group A',a_b_c_d_stage_Agroup.nunique())\n",
    "print('ratio d to c stage group A',round(a_b_c_d_stage_Agroup.nunique()/a_b_c_stage_Agroup.nunique(),2))\n",
    "a_b_c_d_stage_Bgroup=funnel_pv.query('login >=1 & product_page >=1 & product_cart >=1 & purchase>=1 and group==\"B\"')['user_id']\n",
    "print('a_b_c_d_stage group B',a_b_c_d_stage_Bgroup.nunique())\n",
    "print('ratio d to c stage group B',round(a_b_c_d_stage_Bgroup.nunique()/a_b_c_stage_Bgroup.nunique(),2))\n"
   ]
  },
  {
   "cell_type": "code",
   "execution_count": 46,
   "metadata": {},
   "outputs": [
    {
     "name": "stdout",
     "output_type": "stream",
     "text": [
      "b stage A group: 3366\n",
      "b stage B group: 3254\n",
      "\n",
      "b_d_stage A group: 1221\n",
      "ratio d to b stage B group: 0.36\n",
      "b_d_stage B group: 1126\n",
      "ratio d to b stage B group: 0.35\n"
     ]
    }
   ],
   "source": [
    "#users who went through the product_page (B stage) screen and the purchase (D stage) in group A vs group B\n",
    "\n",
    "b_stage_Agroup=funnel_pv.query('product_page >=1 and group==\"A\"')['user_id']\n",
    "print('b stage A group:',b_stage_Agroup.nunique())\n",
    "b_stage_Bgroup=funnel_pv.query('product_page >=1 and group==\"B\"')['user_id']\n",
    "print('b stage B group:',b_stage_Bgroup.nunique())\n",
    "print()\n",
    "\n",
    "b_d_stage_Agroup=funnel_pv.query('product_page >=1 & purchase >=1 and group==\"A\"')['user_id']\n",
    "print('b_d_stage A group:',b_d_stage_Agroup.nunique())\n",
    "print('ratio d to b stage B group:',round(b_d_stage_Agroup.nunique()/b_stage_Agroup.nunique(),2))\n",
    "b_d_stage_Bgroup=funnel_pv.query('product_page >=1 & purchase >=1 and group==\"B\"')['user_id']\n",
    "print('b_d_stage B group:',b_d_stage_Bgroup.nunique())\n",
    "print('ratio d to b stage B group:',round(b_d_stage_Bgroup.nunique()/b_stage_Bgroup.nunique(),2))"
   ]
  },
  {
   "cell_type": "markdown",
   "metadata": {},
   "source": [
    "We can see that difference between groups is not that signifficant in conversion from one stage to the next."
   ]
  },
  {
   "cell_type": "markdown",
   "metadata": {},
   "source": [
    "### 3.1 Conclusion <a class=\"anchor\" id=\"checking-conc\"></a>\n",
    "\n",
    "In the present step of exploratory data analysis we merged our user related tables, cleaned our data and remained only with users who are part of the interface_eu_test test (to make sure we know what screens were shown to the users we removed all those users who participated in both tests: interface_eu_test and recommender_system_test).\n",
    "\n",
    "Thus, in our table we found :\n",
    "\n",
    "- 76,035 events\n",
    "- 9,965 users\n",
    "- 3 is the average number of events per user\n",
    "- Period of time does the data covers\n",
    "    - from 2020-12-07 to 2020-12-30\n",
    "\n",
    "There are 5012 unique users in a group A and 4953 in group B.\n",
    "In group A - 38,533 events, in group B - 37,502.\n",
    "\n",
    "We made sure that the number of events per user distributed almost equally in groups A and B, that there is no users who enter both samples, that most events distributed between 13 and 25 of December and less events are distributed in the beginning and in the end of the testing period.\n",
    "\n",
    "While checking conversion at different funnel stages, we saw that the difference between group A and B in general is about 1-2%."
   ]
  },
  {
   "cell_type": "markdown",
   "metadata": {},
   "source": [
    "## Step 4. Evaluating the A/B test results\n",
    " <a class=\"anchor\" id=\"a/b\"></a>"
   ]
  },
  {
   "cell_type": "markdown",
   "metadata": {},
   "source": [
    "Let's start this step with A/A test, splitting our A group into two samples."
   ]
  },
  {
   "cell_type": "code",
   "execution_count": 47,
   "metadata": {},
   "outputs": [
    {
     "name": "stdout",
     "output_type": "stream",
     "text": [
      "5012\n",
      "group Aa: 2506\n",
      "group Ab: 2506\n"
     ]
    },
    {
     "data": {
      "text/html": [
       "<div>\n",
       "<style scoped>\n",
       "    .dataframe tbody tr th:only-of-type {\n",
       "        vertical-align: middle;\n",
       "    }\n",
       "\n",
       "    .dataframe tbody tr th {\n",
       "        vertical-align: top;\n",
       "    }\n",
       "\n",
       "    .dataframe thead th {\n",
       "        text-align: right;\n",
       "    }\n",
       "</style>\n",
       "<table border=\"1\" class=\"dataframe\">\n",
       "  <thead>\n",
       "    <tr style=\"text-align: right;\">\n",
       "      <th></th>\n",
       "      <th>user_id</th>\n",
       "      <th>first_date</th>\n",
       "      <th>region</th>\n",
       "      <th>device</th>\n",
       "      <th>group</th>\n",
       "      <th>ab_test</th>\n",
       "      <th>event_dt</th>\n",
       "      <th>event_name</th>\n",
       "      <th>details</th>\n",
       "    </tr>\n",
       "  </thead>\n",
       "  <tbody>\n",
       "  </tbody>\n",
       "</table>\n",
       "</div>"
      ],
      "text/plain": [
       "Empty DataFrame\n",
       "Columns: [user_id, first_date, region, device, group, ab_test, event_dt, event_name, details]\n",
       "Index: []"
      ]
     },
     "execution_count": 47,
     "metadata": {},
     "output_type": "execute_result"
    }
   ],
   "source": [
    "#checking lenth of the sample A to devide it into two equal groups\n",
    "print(len(testA))\n",
    "\n",
    "#select randomly 2506 users to group Aa\n",
    "group_Aa = random.sample(list(testA), k=2506)\n",
    "\n",
    "#select other half to group Ab\n",
    "group_Ab = np.setdiff1d(testA,group_Aa)\n",
    "\n",
    "#number of users in each group\n",
    "print('group Aa:', len(group_Aa))\n",
    "print('group Ab:', len(group_Ab))\n",
    "\n",
    "#check that users in group A are not in B and the opposite\n",
    "Aa=df.query('user_id in @group_Aa')\n",
    "Ab=Aa.query('user_id in @group_Ab')\n",
    "Ab\n",
    "#there are no users in both groups"
   ]
  },
  {
   "cell_type": "code",
   "execution_count": 48,
   "metadata": {},
   "outputs": [],
   "source": [
    "#let's assign these group to the events table df\n",
    "df['group_A/A/B'] = df['user_id'].apply(lambda x: 'Ab' if x in group_Ab else ('Aa' if x in group_Aa else 'B'))\n"
   ]
  },
  {
   "cell_type": "code",
   "execution_count": 49,
   "metadata": {},
   "outputs": [
    {
     "data": {
      "text/plain": [
       "B     37502\n",
       "Aa    19524\n",
       "Ab    19009\n",
       "Name: group_A/A/B, dtype: int64"
      ]
     },
     "execution_count": 49,
     "metadata": {},
     "output_type": "execute_result"
    }
   ],
   "source": [
    "#let's check how many events we have per user\n",
    "df['group_A/A/B'].value_counts()"
   ]
  },
  {
   "cell_type": "code",
   "execution_count": 50,
   "metadata": {},
   "outputs": [
    {
     "data": {
      "text/plain": [
       "group_A/A/B  event_dt\n",
       "Aa           1            185\n",
       "             2            577\n",
       "             3            725\n",
       "             4            588\n",
       "             5            290\n",
       "             6            110\n",
       "             7             23\n",
       "             8              8\n",
       "Ab           0              1\n",
       "             1            188\n",
       "             2            590\n",
       "             3            744\n",
       "             4            553\n",
       "             5            286\n",
       "             6             98\n",
       "             7             35\n",
       "             8              8\n",
       "             9              3\n",
       "B            0              1\n",
       "             1            380\n",
       "             2           1121\n",
       "             3           1511\n",
       "             4           1108\n",
       "             5            562\n",
       "             6            194\n",
       "             7             59\n",
       "             8             14\n",
       "             9              3\n",
       "dtype: int64"
      ]
     },
     "execution_count": 50,
     "metadata": {},
     "output_type": "execute_result"
    }
   ],
   "source": [
    "#number of events per user in A/A test\n",
    "aa=df.groupby(['user_id','group_A/A/B']).agg({'event_dt':'nunique'}).reset_index()\n",
    "aa.groupby(['group_A/A/B','event_dt']).size()"
   ]
  },
  {
   "cell_type": "markdown",
   "metadata": {},
   "source": [
    "We can see that partition of events in our AA test groups is pretty much homogenous. "
   ]
  },
  {
   "cell_type": "code",
   "execution_count": 51,
   "metadata": {},
   "outputs": [
    {
     "data": {
      "text/html": [
       "<div>\n",
       "<style scoped>\n",
       "    .dataframe tbody tr th:only-of-type {\n",
       "        vertical-align: middle;\n",
       "    }\n",
       "\n",
       "    .dataframe tbody tr th {\n",
       "        vertical-align: top;\n",
       "    }\n",
       "\n",
       "    .dataframe thead th {\n",
       "        text-align: right;\n",
       "    }\n",
       "</style>\n",
       "<table border=\"1\" class=\"dataframe\">\n",
       "  <thead>\n",
       "    <tr style=\"text-align: right;\">\n",
       "      <th></th>\n",
       "      <th>event_name</th>\n",
       "      <th>group_Aa</th>\n",
       "      <th>group_Ab</th>\n",
       "      <th>group_B</th>\n",
       "      <th>Total</th>\n",
       "      <th>group_Aa%</th>\n",
       "      <th>group_Ab%</th>\n",
       "      <th>group_B%</th>\n",
       "    </tr>\n",
       "  </thead>\n",
       "  <tbody>\n",
       "    <tr>\n",
       "      <td>0</td>\n",
       "      <td>login</td>\n",
       "      <td>2505</td>\n",
       "      <td>2505</td>\n",
       "      <td>4952</td>\n",
       "      <td>9962</td>\n",
       "      <td>25.0</td>\n",
       "      <td>25.0</td>\n",
       "      <td>50.0</td>\n",
       "    </tr>\n",
       "    <tr>\n",
       "      <td>1</td>\n",
       "      <td>product_cart</td>\n",
       "      <td>829</td>\n",
       "      <td>800</td>\n",
       "      <td>1686</td>\n",
       "      <td>3315</td>\n",
       "      <td>25.0</td>\n",
       "      <td>24.0</td>\n",
       "      <td>51.0</td>\n",
       "    </tr>\n",
       "    <tr>\n",
       "      <td>2</td>\n",
       "      <td>product_page</td>\n",
       "      <td>1702</td>\n",
       "      <td>1664</td>\n",
       "      <td>3254</td>\n",
       "      <td>6620</td>\n",
       "      <td>26.0</td>\n",
       "      <td>25.0</td>\n",
       "      <td>49.0</td>\n",
       "    </tr>\n",
       "    <tr>\n",
       "      <td>3</td>\n",
       "      <td>purchase</td>\n",
       "      <td>924</td>\n",
       "      <td>858</td>\n",
       "      <td>1653</td>\n",
       "      <td>3435</td>\n",
       "      <td>27.0</td>\n",
       "      <td>25.0</td>\n",
       "      <td>48.0</td>\n",
       "    </tr>\n",
       "    <tr>\n",
       "      <td>4</td>\n",
       "      <td>All</td>\n",
       "      <td>2506</td>\n",
       "      <td>2505</td>\n",
       "      <td>4952</td>\n",
       "      <td>9963</td>\n",
       "      <td>25.0</td>\n",
       "      <td>25.0</td>\n",
       "      <td>50.0</td>\n",
       "    </tr>\n",
       "  </tbody>\n",
       "</table>\n",
       "</div>"
      ],
      "text/plain": [
       "     event_name  group_Aa  group_Ab  group_B  Total  group_Aa%  group_Ab%  \\\n",
       "0         login      2505      2505     4952   9962       25.0       25.0   \n",
       "1  product_cart       829       800     1686   3315       25.0       24.0   \n",
       "2  product_page      1702      1664     3254   6620       26.0       25.0   \n",
       "3      purchase       924       858     1653   3435       27.0       25.0   \n",
       "4           All      2506      2505     4952   9963       25.0       25.0   \n",
       "\n",
       "   group_B%  \n",
       "0      50.0  \n",
       "1      51.0  \n",
       "2      49.0  \n",
       "3      48.0  \n",
       "4      50.0  "
      ]
     },
     "execution_count": 51,
     "metadata": {},
     "output_type": "execute_result"
    }
   ],
   "source": [
    "#now let's check the share of each funnel stage in our groups: Aa and Ab vs B\n",
    "pivot_share = df.pivot_table(\n",
    "    index='event_name', values='user_id', columns='group_A/A/B', aggfunc=lambda x: x.nunique(),margins=True).reset_index()\n",
    "\n",
    "pivot_share.columns=(['event_name','group_Aa','group_Ab','group_B', 'Total'])\n",
    "pivot_share.reset_index()\n",
    "pivot_share['group_Aa%']=round(100*pivot_share['group_Aa']/pivot_share['Total'])\n",
    "pivot_share['group_Ab%']=round(100*pivot_share['group_Ab']/pivot_share['Total'])\n",
    "pivot_share['group_B%']=round(100*pivot_share['group_B']/pivot_share['Total'])\n",
    "pivot_share"
   ]
  },
  {
   "cell_type": "markdown",
   "metadata": {},
   "source": [
    "We can see that the difference in share between groups is slightly different but remains within 5% (mainly 1-2%), that is not significant. Let's check further the statistical signifficance then."
   ]
  },
  {
   "cell_type": "markdown",
   "metadata": {},
   "source": [
    "Let's create a function and test following NULL Hypothesis H0 and H1 with alpha as 5%:\n",
    "\n",
    "- H0: The number of success in the given event type (stage) of the group B equals to the group A\n",
    "- H1: The number of success in the given event type (stage) of the group B IS NOT equal to the group A"
   ]
  },
  {
   "cell_type": "code",
   "execution_count": 52,
   "metadata": {},
   "outputs": [
    {
     "data": {
      "text/html": [
       "<div>\n",
       "<style scoped>\n",
       "    .dataframe tbody tr th:only-of-type {\n",
       "        vertical-align: middle;\n",
       "    }\n",
       "\n",
       "    .dataframe tbody tr th {\n",
       "        vertical-align: top;\n",
       "    }\n",
       "\n",
       "    .dataframe thead th {\n",
       "        text-align: right;\n",
       "    }\n",
       "</style>\n",
       "<table border=\"1\" class=\"dataframe\">\n",
       "  <thead>\n",
       "    <tr style=\"text-align: right;\">\n",
       "      <th>group</th>\n",
       "      <th>event_name</th>\n",
       "      <th>A</th>\n",
       "      <th>B</th>\n",
       "    </tr>\n",
       "  </thead>\n",
       "  <tbody>\n",
       "    <tr>\n",
       "      <td>0</td>\n",
       "      <td>login</td>\n",
       "      <td>5010</td>\n",
       "      <td>4952</td>\n",
       "    </tr>\n",
       "    <tr>\n",
       "      <td>1</td>\n",
       "      <td>product_cart</td>\n",
       "      <td>1629</td>\n",
       "      <td>1686</td>\n",
       "    </tr>\n",
       "    <tr>\n",
       "      <td>2</td>\n",
       "      <td>product_page</td>\n",
       "      <td>3366</td>\n",
       "      <td>3254</td>\n",
       "    </tr>\n",
       "    <tr>\n",
       "      <td>3</td>\n",
       "      <td>purchase</td>\n",
       "      <td>1782</td>\n",
       "      <td>1653</td>\n",
       "    </tr>\n",
       "  </tbody>\n",
       "</table>\n",
       "</div>"
      ],
      "text/plain": [
       "group    event_name     A     B\n",
       "0             login  5010  4952\n",
       "1      product_cart  1629  1686\n",
       "2      product_page  3366  3254\n",
       "3          purchase  1782  1653"
      ]
     },
     "execution_count": 52,
     "metadata": {},
     "output_type": "execute_result"
    }
   ],
   "source": [
    "pivot = df.pivot_table(index='event_name', values='user_id', \n",
    "                       columns='group', aggfunc=lambda x: x.nunique()).reset_index()\n",
    "pivot"
   ]
  },
  {
   "cell_type": "markdown",
   "metadata": {},
   "source": [
    "In order to get a pivot like the one above and we need to compare the 'conversion' of two test groups for different events. So we need to check whether two test groups are significantly different in each event, we need to use the test of proportions or z-score. Let's define that the success for each group will be the value of action from pivot table. For example, a success of product_cart for group A is 1629.\n"
   ]
  },
  {
   "cell_type": "code",
   "execution_count": 53,
   "metadata": {},
   "outputs": [
    {
     "data": {
      "text/plain": [
       "1629"
      ]
     },
     "execution_count": 53,
     "metadata": {},
     "output_type": "execute_result"
    }
   ],
   "source": [
    "#let's access this value of success directly from our pivot table\n",
    "pivot[pivot.event_name=='product_cart']['A'].iloc[0]"
   ]
  },
  {
   "cell_type": "markdown",
   "metadata": {},
   "source": [
    "Thus, knowing the event name and the name of the group, we can access any value of success from our pivot table for any event. Note: the value of trials will always be the same - the number of users in the groups."
   ]
  },
  {
   "cell_type": "code",
   "execution_count": 54,
   "metadata": {},
   "outputs": [],
   "source": [
    "def check_hypothesis(group1,group2, event, alpha=0.05):\n",
    "    #let's start with successes, using indexing on our pivot table\n",
    "    successes1=pivot[pivot.event_name==event][group1].iloc[0]\n",
    "    successes2=pivot[pivot.event_name==event][group2].iloc[0]\n",
    "    print( \"Success for group\", group1, \"is\",successes1, \"for event\", event,\"\\n\",\n",
    "          \"Success for group\", group2, \"is\",successes2, \"for event\", event,\"\\n\")"
   ]
  },
  {
   "cell_type": "code",
   "execution_count": 55,
   "metadata": {},
   "outputs": [
    {
     "name": "stdout",
     "output_type": "stream",
     "text": [
      "Success for group A is 1629 for event product_cart \n",
      " Success for group B is 1686 for event product_cart \n",
      "\n"
     ]
    }
   ],
   "source": [
    "check_hypothesis(\"A\",\"B\", 'product_cart', alpha=0.05)"
   ]
  },
  {
   "cell_type": "code",
   "execution_count": 56,
   "metadata": {},
   "outputs": [],
   "source": [
    "#now let's add trials (the total users in groups)\n",
    "\n",
    "def check_hypothesis(group1,group2, event, alpha=0.05):\n",
    "    #let's start with successes, using \n",
    "    successes1=pivot[pivot.event_name==event][group1].iloc[0]\n",
    "    successes2=pivot[pivot.event_name==event][group2].iloc[0]\n",
    "    \n",
    "    #for trials we can go back to original df or used a pre-aggregated data\n",
    "    trials1=df[df.group==group1]['user_id'].nunique()\n",
    "    trials2=df[df.group==group2]['user_id'].nunique()\n",
    "    \n",
    "    print(\"Success for group\", group1, \"is\",successes1, \"for event\", event,\"\\n\",\n",
    "          \"Success for group\", group2, \"is\",successes2, \"for event\", event,\"\\n\",\n",
    "          \"Trials for group\", group1, \"is\",trials1,\"\\n\",\n",
    "          \"Trials for group\", group2, \"is\",trials2,\"\\n\")"
   ]
  },
  {
   "cell_type": "code",
   "execution_count": 57,
   "metadata": {},
   "outputs": [
    {
     "name": "stdout",
     "output_type": "stream",
     "text": [
      "Success for group A is 1629 for event product_cart \n",
      " Success for group B is 1686 for event product_cart \n",
      " Trials for group A is 5012 \n",
      " Trials for group B is 4953 \n",
      "\n"
     ]
    }
   ],
   "source": [
    "check_hypothesis(\"A\",\"B\", 'product_cart', alpha=0.05)"
   ]
  },
  {
   "cell_type": "code",
   "execution_count": 58,
   "metadata": {},
   "outputs": [],
   "source": [
    "#now let's add the rest of the function\n",
    "\n",
    "def check_hypothesis(group1,group2, event, alpha=0.05):\n",
    "    #let's start with successes, using \n",
    "    successes1=pivot[pivot.event_name==event][group1].iloc[0]\n",
    "    successes2=pivot[pivot.event_name==event][group2].iloc[0]\n",
    "    \n",
    "    #for trials we can go back to original df or used a pre-aggregated data\n",
    "    trials1=df[df.group==group1]['user_id'].nunique()\n",
    "    trials2=df[df.group==group2]['user_id'].nunique()\n",
    "    \n",
    "    #proportion for success in the first group\n",
    "    p1 = successes1/trials1\n",
    "\n",
    "   #proportion for success in the second group\n",
    "    p2 = successes2/trials2\n",
    "\n",
    "    # proportion in a combined dataset\n",
    "    p_combined = (successes1 + successes2) / (trials1 + trials2)\n",
    "\n",
    "  \n",
    "    difference = p1 - p2\n",
    "    \n",
    "    \n",
    "    z_value = difference / mt.sqrt(p_combined * (1 - p_combined) * (1/trials1 + 1/trials2))\n",
    "\n",
    "  \n",
    "    distr = stats.norm(0, 1) \n",
    "\n",
    "\n",
    "    p_value = (1 - distr.cdf(abs(z_value))) * 2\n",
    "\n",
    "    print('p-value: ', p_value)\n",
    "\n",
    "    if (p_value < alpha):\n",
    "        print(\"Reject H0 for\",event, 'and for groups',group1,group2)\n",
    "    else:\n",
    "        print(\"Fail to Reject H0 for\", event,'and for groups',group1,group2)  "
   ]
  },
  {
   "cell_type": "code",
   "execution_count": 59,
   "metadata": {},
   "outputs": [
    {
     "name": "stdout",
     "output_type": "stream",
     "text": [
      "p-value:  0.10326893846203533\n",
      "Fail to Reject H0 for product_cart and for groups A B\n"
     ]
    }
   ],
   "source": [
    "check_hypothesis(\"A\",\"B\", 'product_cart', alpha=0.05)"
   ]
  },
  {
   "cell_type": "code",
   "execution_count": 60,
   "metadata": {},
   "outputs": [
    {
     "name": "stdout",
     "output_type": "stream",
     "text": [
      "p-value:  0.5705846932158525\n",
      "Fail to Reject H0 for login and for groups A B\n",
      "p-value:  0.10326893846203533\n",
      "Fail to Reject H0 for product_cart and for groups A B\n",
      "p-value:  0.12247464713382916\n",
      "Fail to Reject H0 for product_page and for groups A B\n",
      "p-value:  0.021999992681769553\n",
      "Reject H0 for purchase and for groups A B\n"
     ]
    }
   ],
   "source": [
    "#let's use this function to see if there is a statistically significant \n",
    "#difference between samples in group A and B\n",
    "for i in pivot.event_name.unique():\n",
    "    check_hypothesis(\"A\",\"B\", i, alpha=0.05)"
   ]
  },
  {
   "cell_type": "markdown",
   "metadata": {},
   "source": [
    "As per our findings above, our two groups in the A/B test (samples A and B) has no statistically significant difference between them in all stages except 1 - purchase stage."
   ]
  },
  {
   "cell_type": "markdown",
   "metadata": {},
   "source": [
    "Now let's take a look on our A/A test group."
   ]
  },
  {
   "cell_type": "code",
   "execution_count": 61,
   "metadata": {},
   "outputs": [
    {
     "data": {
      "text/html": [
       "<div>\n",
       "<style scoped>\n",
       "    .dataframe tbody tr th:only-of-type {\n",
       "        vertical-align: middle;\n",
       "    }\n",
       "\n",
       "    .dataframe tbody tr th {\n",
       "        vertical-align: top;\n",
       "    }\n",
       "\n",
       "    .dataframe thead th {\n",
       "        text-align: right;\n",
       "    }\n",
       "</style>\n",
       "<table border=\"1\" class=\"dataframe\">\n",
       "  <thead>\n",
       "    <tr style=\"text-align: right;\">\n",
       "      <th>group_A/A/B</th>\n",
       "      <th>event_name</th>\n",
       "      <th>Aa</th>\n",
       "      <th>Ab</th>\n",
       "      <th>B</th>\n",
       "    </tr>\n",
       "  </thead>\n",
       "  <tbody>\n",
       "    <tr>\n",
       "      <td>0</td>\n",
       "      <td>login</td>\n",
       "      <td>2505</td>\n",
       "      <td>2505</td>\n",
       "      <td>4952</td>\n",
       "    </tr>\n",
       "    <tr>\n",
       "      <td>1</td>\n",
       "      <td>product_cart</td>\n",
       "      <td>829</td>\n",
       "      <td>800</td>\n",
       "      <td>1686</td>\n",
       "    </tr>\n",
       "    <tr>\n",
       "      <td>2</td>\n",
       "      <td>product_page</td>\n",
       "      <td>1702</td>\n",
       "      <td>1664</td>\n",
       "      <td>3254</td>\n",
       "    </tr>\n",
       "    <tr>\n",
       "      <td>3</td>\n",
       "      <td>purchase</td>\n",
       "      <td>924</td>\n",
       "      <td>858</td>\n",
       "      <td>1653</td>\n",
       "    </tr>\n",
       "  </tbody>\n",
       "</table>\n",
       "</div>"
      ],
      "text/plain": [
       "group_A/A/B    event_name    Aa    Ab     B\n",
       "0                   login  2505  2505  4952\n",
       "1            product_cart   829   800  1686\n",
       "2            product_page  1702  1664  3254\n",
       "3                purchase   924   858  1653"
      ]
     },
     "execution_count": 61,
     "metadata": {},
     "output_type": "execute_result"
    }
   ],
   "source": [
    "combo_pv = df.pivot_table(index='event_name', values='user_id', \n",
    "                       columns='group_A/A/B', aggfunc=lambda x: x.nunique()).reset_index()\n",
    "combo_pv"
   ]
  },
  {
   "cell_type": "code",
   "execution_count": 62,
   "metadata": {},
   "outputs": [],
   "source": [
    "#now let's update our finction with the new combo data \n",
    "\n",
    "def combo_hypothesis(group1,group2, event, alpha=0.05):\n",
    "    #let's start with successes, using \n",
    "    successes1=combo_pv[combo_pv.event_name==event][group1].iloc[0]\n",
    "    successes2=combo_pv[combo_pv.event_name==event][group2].iloc[0]\n",
    "    \n",
    "    #for trials we can go back to original df or used a pre-aggregated data\n",
    "    trials1=df[df['group_A/A/B']==group1]['user_id'].nunique()\n",
    "    trials2=df[df['group_A/A/B']==group2]['user_id'].nunique()\n",
    "    \n",
    "    #proportion for success in the first group\n",
    "    p1 = successes1/trials1\n",
    "\n",
    "   #proportion for success in the second group\n",
    "    p2 = successes2/trials2\n",
    "\n",
    "    # proportion in a combined dataset\n",
    "    p_combined = (successes1 + successes2) / (trials1 + trials2)\n",
    "\n",
    "  \n",
    "    difference = p1 - p2\n",
    "    \n",
    "    \n",
    "    z_value = difference / mt.sqrt(p_combined * (1 - p_combined) * (1/trials1 + 1/trials2))\n",
    "\n",
    "  \n",
    "    distr = stats.norm(0, 1) \n",
    "\n",
    "\n",
    "    p_value = (1 - distr.cdf(abs(z_value))) * 2\n",
    "\n",
    "    print('p-value: ', p_value)\n",
    "\n",
    "    if (p_value < alpha):\n",
    "        print(\"Reject H0 for\",event, 'and for groups',group1,group2)\n",
    "    else:\n",
    "        print(\"Fail to Reject H0 for\", event,'and for groups',group1,group2)  "
   ]
  },
  {
   "cell_type": "code",
   "execution_count": 66,
   "metadata": {},
   "outputs": [
    {
     "name": "stdout",
     "output_type": "stream",
     "text": [
      "p-value:  0.3818107536073567\n",
      "Fail to Reject H0 for product_cart and for groups Aa Ab\n"
     ]
    }
   ],
   "source": [
    "combo_hypothesis(\"Aa\",\"Ab\", 'product_cart', alpha=0.05)"
   ]
  },
  {
   "cell_type": "code",
   "execution_count": 65,
   "metadata": {},
   "outputs": [
    {
     "name": "stdout",
     "output_type": "stream",
     "text": [
      "p-value:  1.0\n",
      "Fail to Reject H0 for login and for groups Aa Ab\n",
      "p-value:  0.3818107536073567\n",
      "Fail to Reject H0 for product_cart and for groups Aa Ab\n",
      "p-value:  0.2530703610844003\n",
      "Fail to Reject H0 for product_page and for groups Aa Ab\n",
      "p-value:  0.05146574915844848\n",
      "Fail to Reject H0 for purchase and for groups Aa Ab\n"
     ]
    }
   ],
   "source": [
    "#let's use this function to see if there is a statistically significant \n",
    "#difference between samples in group Aa and Ab\n",
    "for i in combo_pv.event_name.unique():\n",
    "    combo_hypothesis(\"Aa\",\"Ab\", i, alpha=0.05)"
   ]
  },
  {
   "cell_type": "markdown",
   "metadata": {},
   "source": [
    "So we can see that our control group there is no statistically significant difference in groups Aa and Ab."
   ]
  },
  {
   "cell_type": "markdown",
   "metadata": {},
   "source": [
    "### 5.6 Conclusion<a class=\"anchor\" id=\"results-conc\"></a>"
   ]
  },
  {
   "cell_type": "markdown",
   "metadata": {},
   "source": [
    "At this stage we split our control group A into two samples Aa and Ab. We found that they are split homogeneously, including events and funnel stages. Testing further statistical significance, we also found that there is no statistically significant difference in groups Aa and Ab.\n",
    "\n",
    "Regarding our A/B test, we saw that events are split almost 50/50 between groups A and B and that there is no no statistically significant difference in groups A and B at all stages except 'purchase' stage."
   ]
  },
  {
   "cell_type": "markdown",
   "metadata": {},
   "source": [
    "## Step 6. General conclusion <a class=\"anchor\" id=\"conclusion\"></a>"
   ]
  },
  {
   "cell_type": "markdown",
   "metadata": {},
   "source": [
    "Given research is investigating user behaviour for an international online store.\n",
    "\n",
    "We looked at the results of an A/B test regarding changes related to the introduction of an improved recommendation system: expected result was to see better conversion into product page views (the product_page event), product card views (product_card) and purchases (purchase). \n",
    "\n",
    "At each of the stage of the funnel product_page → product_card → purchase, there had to be at least a 10% increase.  Users were split into 2 groups: А (control group - got the old payment funnel), B (test group - got the new payment funnel).\n",
    "\n",
    "Thus, in our table we had 76,035 events; 9,965 users; 3 was the average number of events per user; during the period of time from 2020-12-07 to 2020-12-30. We tested 5012 unique users in a group A and 4953 in group B. In group A - 38,533 events, in group B - 37,502.\n",
    "\n",
    "While checking event types (stages) and their frequency of occurrence, we found that\n",
    "* for group A login appeared 16354 times, then product_page - 10932 times, purchase - 5844 and product_cart - 5402 times; ",
    "\n",
    "* for group B login appeared 16102 times, then product_page - 10531 times, product_cart - 5475 times and purchase - 5393.\n",
    "\n",
    "We made sure that the number of events per user were distributed almost equally in groups A and B, that there was no users who entered both samples, that most events distributed between 13 and 25 of December and less events were distributed in the beginning and in the end of the testing period.\n",
    "\n",
    "While checking conversion at different funnel stages, we saw that the difference between group A and B in general was about 1-2%.\n",
    "As a result, while studied the sales funnel, we found out that 35% of users actually reach the purchase stage, and others are stuck at previous stages. The picture is the same for both A and B groups: 36% and 33% accordingly.\n",
    "\n",
    "Testing the Null hypothesis, where alpha was 5%:\n",
    "* H0: The number of success in the given event type (stage) of the group B equals to the group A\n",
    "* H1: The number of success in the given event type (stage) of the group B IS NOT equal to the group A\n",
    "\n",
    "\n",
    "we saw, that regarding our A/B test, events were split almost 50/50 between groups A and B and that there was no statistically significant difference in groups A and B at all stages except 'purchase' stage.\n",
    "\n",
    "In addition, we split our control group A into two samples Aa and Ab. We found that they were split homogeneously, including events and funnel stages. Testing further statistical significance, we also found that there is no statistically significant difference in groups Aa and Ab.\n",
    "\n",
    "Note: as part of our analysis we merged our user related tables, cleaned our data and remained only with users who were part of the interface_eu_test test (to make sure we know what screens were shown to the users we removed all those users who participated in both tests: interface_eu_test and recommender_system_test). \n",
    "\n",
    "**We had more that 75k events of ~5k unique users to study their behaviour during Dec 7-30 2020. We saw that only 35% of users reached the purchase stage successfully . When we looked at the results of an A/B test regarding the change of the payment method to find out which method produces better results we saw that all groups were split equally between stages and that there was no statistically significant difference between any of groups - those who went through the old payment funnel or group who went the new one. Thus, based on the above, the change of the payment funnel didn't lead to any positive change. Recommended to stop further testing.**"
   ]
  },
  {
   "cell_type": "code",
   "execution_count": null,
   "metadata": {},
   "outputs": [],
   "source": []
  },
  {
   "cell_type": "code",
   "execution_count": null,
   "metadata": {},
   "outputs": [],
   "source": []
  }
 ],
 "metadata": {
  "kernelspec": {
   "display_name": "Python 3",
   "language": "python",
   "name": "python3"
  },
  "language_info": {
   "codemirror_mode": {
    "name": "ipython",
    "version": 3
   },
   "file_extension": ".py",
   "mimetype": "text/x-python",
   "name": "python",
   "nbconvert_exporter": "python",
   "pygments_lexer": "ipython3",
   "version": "3.7.6"
  }
 },
 "nbformat": 4,
 "nbformat_minor": 2
}
